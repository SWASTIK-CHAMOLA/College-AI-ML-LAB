{
  "cells": [
    {
      "cell_type": "markdown",
      "metadata": {
        "id": "view-in-github",
        "colab_type": "text"
      },
      "source": [
        "<a href=\"https://colab.research.google.com/github/SWASTIK-CHAMOLA/College-AI-ML-LAB/blob/main/LAB_1_%2B_LAB_2.ipynb\" target=\"_parent\"><img src=\"https://colab.research.google.com/assets/colab-badge.svg\" alt=\"Open In Colab\"/></a>"
      ]
    },
    {
      "cell_type": "code",
      "source": [
        "from google.colab import drive\n",
        "drive.mount('/content/drive')"
      ],
      "metadata": {
        "colab": {
          "base_uri": "https://localhost:8080/"
        },
        "id": "Wj8bhkXcJdgu",
        "outputId": "25f0fe03-378b-46aa-9a8e-59977b19ab6e"
      },
      "execution_count": null,
      "outputs": [
        {
          "output_type": "stream",
          "name": "stdout",
          "text": [
            "Drive already mounted at /content/drive; to attempt to forcibly remount, call drive.mount(\"/content/drive\", force_remount=True).\n"
          ]
        }
      ]
    },
    {
      "cell_type": "code",
      "source": [
        "import pandas as pd\n",
        "\n",
        "file_path = \"/content/drive/MyDrive/Colab Notebooks/Netflix Dataset.csv\"\n",
        "\n",
        "df = pd.read_csv(file_path)\n",
        "\n",
        "# print the head to check if it loaded correctly\n",
        "print(df.head())"
      ],
      "metadata": {
        "colab": {
          "base_uri": "https://localhost:8080/"
        },
        "id": "deOs9HxjKKRQ",
        "outputId": "39ea746d-1efb-48c6-81a4-ddb6a45c588a"
      },
      "execution_count": null,
      "outputs": [
        {
          "output_type": "stream",
          "name": "stdout",
          "text": [
            "  Show_Id Category  Title           Director  \\\n",
            "0      s1  TV Show     3%                NaN   \n",
            "1      s2    Movie  07:19  Jorge Michel Grau   \n",
            "2      s3    Movie  23:59       Gilbert Chan   \n",
            "3      s4    Movie      9        Shane Acker   \n",
            "4      s5    Movie     21     Robert Luketic   \n",
            "\n",
            "                                                Cast        Country  \\\n",
            "0  João Miguel, Bianca Comparato, Michel Gomes, R...         Brazil   \n",
            "1  Demián Bichir, Héctor Bonilla, Oscar Serrano, ...         Mexico   \n",
            "2  Tedd Chan, Stella Chung, Henley Hii, Lawrence ...      Singapore   \n",
            "3  Elijah Wood, John C. Reilly, Jennifer Connelly...  United States   \n",
            "4  Jim Sturgess, Kevin Spacey, Kate Bosworth, Aar...  United States   \n",
            "\n",
            "        Release_Date Rating   Duration  \\\n",
            "0    August 14, 2020  TV-MA  4 Seasons   \n",
            "1  December 23, 2016  TV-MA     93 min   \n",
            "2  December 20, 2018      R     78 min   \n",
            "3  November 16, 2017  PG-13     80 min   \n",
            "4    January 1, 2020  PG-13    123 min   \n",
            "\n",
            "                                                Type  \\\n",
            "0  International TV Shows, TV Dramas, TV Sci-Fi &...   \n",
            "1                       Dramas, International Movies   \n",
            "2                Horror Movies, International Movies   \n",
            "3  Action & Adventure, Independent Movies, Sci-Fi...   \n",
            "4                                             Dramas   \n",
            "\n",
            "                                         Description  \n",
            "0  In a future where the elite inhabit an island ...  \n",
            "1  After a devastating earthquake hits Mexico Cit...  \n",
            "2  When an army recruit is found dead, his fellow...  \n",
            "3  In a postapocalyptic world, rag-doll robots hi...  \n",
            "4  A brilliant group of students become card-coun...  \n"
          ]
        }
      ]
    },
    {
      "cell_type": "code",
      "source": [
        "import pandas as pd\n",
        "import os\n",
        "\n",
        "# THIS IS THE FIX: Use the correct path that you discovered in your first cell.\n",
        "file_path = \"/content/drive/MyDrive/Colab Notebooks/Netflix Dataset.csv\"\n",
        "\n",
        "# Step 1: Import data\n",
        "df = pd.read_csv(file_path)\n",
        "\n",
        "# Step 2: Display dataset details (The rest of the code is perfect)\n",
        "print(\"=== Dataset Details ===\")\n",
        "print(\"Number of Rows:\", df.shape[0])\n",
        "print(\"Number of Columns:\", df.shape[1])\n",
        "print(\"\\nFirst 5 Rows of the Dataset:\\n\", df.head())\n",
        "print(\"\\nDataset Size (rows × columns):\", df.size)\n",
        "\n",
        "# Missing values count\n",
        "print(\"\\nMissing Values in Each Column:\\n\", df.isnull().sum())\n",
        "\n",
        "# Numerical columns summary\n",
        "print(\"\\n=== Numerical Columns Summary ===\")\n",
        "print(\"Sum of Numerical Columns:\\n\", df.sum(numeric_only=True))\n",
        "print(\"\\nAverage of Numerical Columns:\\n\", df.mean(numeric_only=True))\n",
        "print(\"\\nMinimum Values of Numerical Columns:\\n\", df.min(numeric_only=True))\n",
        "print(\"\\nMaximum Values of Numerical Columns:\\n\", df.max(numeric_only=True))\n",
        "\n",
        "# Step 3: Export the dataset to a new CSV file\n",
        "# You might want to save the output back to the same folder\n",
        "output_dir = \"/content/drive/MyDrive/Colab Notebooks/Netflix\"\n",
        "output_path = os.path.join(output_dir, \"output.csv\")\n",
        "\n",
        "# Create the directory if it doesn't exist\n",
        "os.makedirs(output_dir, exist_ok=True)\n",
        "\n",
        "df.to_csv(output_path, index=False)\n",
        "print(f\"\\nData exported successfully to '{output_path}'\")"
      ],
      "metadata": {
        "colab": {
          "base_uri": "https://localhost:8080/"
        },
        "id": "N1vwumNhLw30",
        "outputId": "3bcdf672-44db-4043-9840-0d097af8a59e"
      },
      "execution_count": null,
      "outputs": [
        {
          "output_type": "stream",
          "name": "stdout",
          "text": [
            "=== Dataset Details ===\n",
            "Number of Rows: 7789\n",
            "Number of Columns: 11\n",
            "\n",
            "First 5 Rows of the Dataset:\n",
            "   Show_Id Category  Title           Director  \\\n",
            "0      s1  TV Show     3%                NaN   \n",
            "1      s2    Movie  07:19  Jorge Michel Grau   \n",
            "2      s3    Movie  23:59       Gilbert Chan   \n",
            "3      s4    Movie      9        Shane Acker   \n",
            "4      s5    Movie     21     Robert Luketic   \n",
            "\n",
            "                                                Cast        Country  \\\n",
            "0  João Miguel, Bianca Comparato, Michel Gomes, R...         Brazil   \n",
            "1  Demián Bichir, Héctor Bonilla, Oscar Serrano, ...         Mexico   \n",
            "2  Tedd Chan, Stella Chung, Henley Hii, Lawrence ...      Singapore   \n",
            "3  Elijah Wood, John C. Reilly, Jennifer Connelly...  United States   \n",
            "4  Jim Sturgess, Kevin Spacey, Kate Bosworth, Aar...  United States   \n",
            "\n",
            "        Release_Date Rating   Duration  \\\n",
            "0    August 14, 2020  TV-MA  4 Seasons   \n",
            "1  December 23, 2016  TV-MA     93 min   \n",
            "2  December 20, 2018      R     78 min   \n",
            "3  November 16, 2017  PG-13     80 min   \n",
            "4    January 1, 2020  PG-13    123 min   \n",
            "\n",
            "                                                Type  \\\n",
            "0  International TV Shows, TV Dramas, TV Sci-Fi &...   \n",
            "1                       Dramas, International Movies   \n",
            "2                Horror Movies, International Movies   \n",
            "3  Action & Adventure, Independent Movies, Sci-Fi...   \n",
            "4                                             Dramas   \n",
            "\n",
            "                                         Description  \n",
            "0  In a future where the elite inhabit an island ...  \n",
            "1  After a devastating earthquake hits Mexico Cit...  \n",
            "2  When an army recruit is found dead, his fellow...  \n",
            "3  In a postapocalyptic world, rag-doll robots hi...  \n",
            "4  A brilliant group of students become card-coun...  \n",
            "\n",
            "Dataset Size (rows × columns): 85679\n",
            "\n",
            "Missing Values in Each Column:\n",
            " Show_Id            0\n",
            "Category           0\n",
            "Title              0\n",
            "Director        2388\n",
            "Cast             718\n",
            "Country          507\n",
            "Release_Date      10\n",
            "Rating             7\n",
            "Duration           0\n",
            "Type               0\n",
            "Description        0\n",
            "dtype: int64\n",
            "\n",
            "=== Numerical Columns Summary ===\n",
            "Sum of Numerical Columns:\n",
            " Series([], dtype: float64)\n",
            "\n",
            "Average of Numerical Columns:\n",
            " Series([], dtype: float64)\n",
            "\n",
            "Minimum Values of Numerical Columns:\n",
            " Series([], dtype: float64)\n",
            "\n",
            "Maximum Values of Numerical Columns:\n",
            " Series([], dtype: float64)\n",
            "\n",
            "Data exported successfully to '/content/drive/MyDrive/Colab Notebooks/Netflix/output.csv'\n"
          ]
        }
      ]
    },
    {
      "cell_type": "code",
      "source": [],
      "metadata": {
        "id": "gfOvAOHMMdxR"
      },
      "execution_count": null,
      "outputs": []
    }
  ],
  "metadata": {
    "colab": {
      "toc_visible": true,
      "provenance": [],
      "include_colab_link": true
    },
    "kernelspec": {
      "display_name": "Python 3",
      "name": "python3"
    }
  },
  "nbformat": 4,
  "nbformat_minor": 0
}