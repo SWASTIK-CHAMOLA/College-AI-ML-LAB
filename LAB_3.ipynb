{
  "cells": [
    {
      "cell_type": "markdown",
      "metadata": {
        "id": "view-in-github",
        "colab_type": "text"
      },
      "source": [
        "<a href=\"https://colab.research.google.com/github/SWASTIK-CHAMOLA/College-AI-ML-LAB/blob/main/LAB_3.ipynb\" target=\"_parent\"><img src=\"https://colab.research.google.com/assets/colab-badge.svg\" alt=\"Open In Colab\"/></a>"
      ]
    },
    {
      "cell_type": "code",
      "source": [
        "from google.colab import drive\n",
        "drive.mount('/content/drive')"
      ],
      "metadata": {
        "colab": {
          "base_uri": "https://localhost:8080/"
        },
        "id": "gxmgu2PiSFGK",
        "outputId": "b28cd972-b727-42ff-8319-993eb588f6b9"
      },
      "execution_count": 6,
      "outputs": [
        {
          "output_type": "stream",
          "name": "stdout",
          "text": [
            "Drive already mounted at /content/drive; to attempt to forcibly remount, call drive.mount(\"/content/drive\", force_remount=True).\n"
          ]
        }
      ]
    },
    {
      "cell_type": "code",
      "source": [
        "import pandas as pd\n",
        "import numpy as np\n",
        "import seaborn as sns\n",
        "import matplotlib.pyplot as plt\n",
        "file_path = \"/content/drive/MyDrive/Colab Notebooks/Netflix Dataset.csv\"\n",
        "\n",
        "df = pd.read_csv(file_path)\n",
        "\n",
        "# Now you can print the head to check if it loaded correctly\n",
        "print(df.head())"
      ],
      "metadata": {
        "colab": {
          "base_uri": "https://localhost:8080/"
        },
        "id": "E8gTGIOfSET1",
        "outputId": "54e6dcb9-ca0b-47ca-d0bd-2c65ab89b53d"
      },
      "execution_count": 7,
      "outputs": [
        {
          "output_type": "stream",
          "name": "stdout",
          "text": [
            "  Show_Id Category  Title           Director  \\\n",
            "0      s1  TV Show     3%                NaN   \n",
            "1      s2    Movie  07:19  Jorge Michel Grau   \n",
            "2      s3    Movie  23:59       Gilbert Chan   \n",
            "3      s4    Movie      9        Shane Acker   \n",
            "4      s5    Movie     21     Robert Luketic   \n",
            "\n",
            "                                                Cast        Country  \\\n",
            "0  João Miguel, Bianca Comparato, Michel Gomes, R...         Brazil   \n",
            "1  Demián Bichir, Héctor Bonilla, Oscar Serrano, ...         Mexico   \n",
            "2  Tedd Chan, Stella Chung, Henley Hii, Lawrence ...      Singapore   \n",
            "3  Elijah Wood, John C. Reilly, Jennifer Connelly...  United States   \n",
            "4  Jim Sturgess, Kevin Spacey, Kate Bosworth, Aar...  United States   \n",
            "\n",
            "        Release_Date Rating   Duration  \\\n",
            "0    August 14, 2020  TV-MA  4 Seasons   \n",
            "1  December 23, 2016  TV-MA     93 min   \n",
            "2  December 20, 2018      R     78 min   \n",
            "3  November 16, 2017  PG-13     80 min   \n",
            "4    January 1, 2020  PG-13    123 min   \n",
            "\n",
            "                                                Type  \\\n",
            "0  International TV Shows, TV Dramas, TV Sci-Fi &...   \n",
            "1                       Dramas, International Movies   \n",
            "2                Horror Movies, International Movies   \n",
            "3  Action & Adventure, Independent Movies, Sci-Fi...   \n",
            "4                                             Dramas   \n",
            "\n",
            "                                         Description  \n",
            "0  In a future where the elite inhabit an island ...  \n",
            "1  After a devastating earthquake hits Mexico Cit...  \n",
            "2  When an army recruit is found dead, his fellow...  \n",
            "3  In a postapocalyptic world, rag-doll robots hi...  \n",
            "4  A brilliant group of students become card-coun...  \n"
          ]
        }
      ]
    },
    {
      "cell_type": "code",
      "source": [
        "# Step 1: Missing Value Handling\n",
        "\n",
        "# Check missing values\n",
        "print(\"Missing values per column (Before):\")\n",
        "print(df.isnull().sum())\n",
        "\n",
        "# Fill missing values\n",
        "df['Director'] = df['Director'].fillna(df['Director'].mode()[0])\n",
        "df['Cast'] = df['Cast'].fillna(\"Unknown Cast\")\n",
        "df['Country'] = df['Country'].fillna(df['Country'].mode()[0])\n",
        "df['Rating'] = df['Rating'].fillna(df['Rating'].mode()[0])\n",
        "\n",
        "# Drop rows with missing Release_Date (only 10 rows)\n",
        "df = df.dropna(subset=['Release_Date'])\n",
        "\n",
        "# Check again\n",
        "print(\"\\nMissing values per column (After):\")\n",
        "print(df.isnull().sum())\n"
      ],
      "metadata": {
        "colab": {
          "base_uri": "https://localhost:8080/"
        },
        "id": "ge1PdLqpS-fZ",
        "outputId": "d0fc9a91-e88e-4de3-e578-65d8c6d052af"
      },
      "execution_count": 8,
      "outputs": [
        {
          "output_type": "stream",
          "name": "stdout",
          "text": [
            "Missing values per column (Before):\n",
            "Show_Id            0\n",
            "Category           0\n",
            "Title              0\n",
            "Director        2388\n",
            "Cast             718\n",
            "Country          507\n",
            "Release_Date      10\n",
            "Rating             7\n",
            "Duration           0\n",
            "Type               0\n",
            "Description        0\n",
            "dtype: int64\n",
            "\n",
            "Missing values per column (After):\n",
            "Show_Id         0\n",
            "Category        0\n",
            "Title           0\n",
            "Director        0\n",
            "Cast            0\n",
            "Country         0\n",
            "Release_Date    0\n",
            "Rating          0\n",
            "Duration        0\n",
            "Type            0\n",
            "Description     0\n",
            "dtype: int64\n"
          ]
        }
      ]
    },
    {
      "cell_type": "code",
      "source": [
        "# Step 2: Outlier Handling\n",
        "\n",
        "# Convert Duration into numeric values\n",
        "def convert_duration(val):\n",
        "    if \"min\" in val:\n",
        "        return int(val.replace(\" min\", \"\"))\n",
        "    elif \"Season\" in val:\n",
        "        return int(val.split()[0]) * 60  # Approximation: 1 season ≈ 60 minutes\n",
        "    return None\n",
        "\n",
        "df['Duration_num'] = df['Duration'].apply(convert_duration)\n",
        "\n",
        "# Detect outliers using IQR\n",
        "Q1 = df['Duration_num'].quantile(0.25)\n",
        "Q3 = df['Duration_num'].quantile(0.75)\n",
        "IQR = Q3 - Q1\n",
        "\n",
        "lower_limit = Q1 - 1.5 * IQR\n",
        "upper_limit = Q3 + 1.5 * IQR\n",
        "\n",
        "print(\"\\nOutlier Detection for Duration:\")\n",
        "print(\"Q1:\", Q1, \"Q3:\", Q3, \"IQR:\", IQR)\n",
        "print(\"Lower Limit:\", lower_limit, \"Upper Limit:\", upper_limit)\n",
        "\n",
        "# Remove outliers\n",
        "df_no_outliers = df[(df['Duration_num'] >= lower_limit) & (df['Duration_num'] <= upper_limit)]\n",
        "\n",
        "print(\"\\nDataset Shape Before Removing Outliers:\", df.shape)\n",
        "print(\"Dataset Shape After Removing Outliers:\", df_no_outliers.shape)\n"
      ],
      "metadata": {
        "id": "G4KooYJgVb6_",
        "outputId": "81a6eab8-a17d-4394-a966-18085a71e037",
        "colab": {
          "base_uri": "https://localhost:8080/"
        }
      },
      "execution_count": 9,
      "outputs": [
        {
          "output_type": "stream",
          "name": "stdout",
          "text": [
            "\n",
            "Outlier Detection for Duration:\n",
            "Q1: 60.0 Q3: 118.0 IQR: 58.0\n",
            "Lower Limit: -27.0 Upper Limit: 205.0\n",
            "\n",
            "Dataset Shape Before Removing Outliers: (7779, 12)\n",
            "Dataset Shape After Removing Outliers: (7537, 12)\n"
          ]
        }
      ]
    },
    {
      "cell_type": "code",
      "source": [
        "# Step 3: Final Cleaned Dataset\n",
        "\n",
        "print(\"\\nFinal Cleaned Dataset (Sample Rows):\")\n",
        "print(df_no_outliers.head())\n"
      ],
      "metadata": {
        "id": "jXFKx4KCTX8C",
        "outputId": "81a783c9-6125-40d9-835c-86c746cb00fc",
        "colab": {
          "base_uri": "https://localhost:8080/"
        }
      },
      "execution_count": 10,
      "outputs": [
        {
          "output_type": "stream",
          "name": "stdout",
          "text": [
            "\n",
            "Final Cleaned Dataset (Sample Rows):\n",
            "  Show_Id Category  Title           Director  \\\n",
            "1      s2    Movie  07:19  Jorge Michel Grau   \n",
            "2      s3    Movie  23:59       Gilbert Chan   \n",
            "3      s4    Movie      9        Shane Acker   \n",
            "4      s5    Movie     21     Robert Luketic   \n",
            "5      s6  TV Show     46        Serdar Akar   \n",
            "\n",
            "                                                Cast        Country  \\\n",
            "1  Demián Bichir, Héctor Bonilla, Oscar Serrano, ...         Mexico   \n",
            "2  Tedd Chan, Stella Chung, Henley Hii, Lawrence ...      Singapore   \n",
            "3  Elijah Wood, John C. Reilly, Jennifer Connelly...  United States   \n",
            "4  Jim Sturgess, Kevin Spacey, Kate Bosworth, Aar...  United States   \n",
            "5  Erdal Beşikçioğlu, Yasemin Allen, Melis Birkan...         Turkey   \n",
            "\n",
            "        Release_Date Rating  Duration  \\\n",
            "1  December 23, 2016  TV-MA    93 min   \n",
            "2  December 20, 2018      R    78 min   \n",
            "3  November 16, 2017  PG-13    80 min   \n",
            "4    January 1, 2020  PG-13   123 min   \n",
            "5       July 1, 2017  TV-MA  1 Season   \n",
            "\n",
            "                                                Type  \\\n",
            "1                       Dramas, International Movies   \n",
            "2                Horror Movies, International Movies   \n",
            "3  Action & Adventure, Independent Movies, Sci-Fi...   \n",
            "4                                             Dramas   \n",
            "5    International TV Shows, TV Dramas, TV Mysteries   \n",
            "\n",
            "                                         Description  Duration_num  \n",
            "1  After a devastating earthquake hits Mexico Cit...            93  \n",
            "2  When an army recruit is found dead, his fellow...            78  \n",
            "3  In a postapocalyptic world, rag-doll robots hi...            80  \n",
            "4  A brilliant group of students become card-coun...           123  \n",
            "5  A genetics professor experiments with a treatm...            60  \n"
          ]
        }
      ]
    },
    {
      "cell_type": "code",
      "source": [],
      "metadata": {
        "id": "FqNiMQQ7Vi8A"
      },
      "execution_count": 10,
      "outputs": []
    }
  ],
  "metadata": {
    "colab": {
      "provenance": [],
      "gpuType": "T4",
      "include_colab_link": true
    },
    "kernelspec": {
      "display_name": "Python 3",
      "name": "python3"
    },
    "accelerator": "GPU"
  },
  "nbformat": 4,
  "nbformat_minor": 0
}