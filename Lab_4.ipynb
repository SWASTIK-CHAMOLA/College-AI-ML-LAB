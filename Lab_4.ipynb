{
  "nbformat": 4,
  "nbformat_minor": 0,
  "metadata": {
    "colab": {
      "provenance": [],
      "gpuType": "T4",
      "authorship_tag": "ABX9TyOdX2Upb5fAt3mmAXEIuGnY",
      "include_colab_link": true
    },
    "kernelspec": {
      "name": "python3",
      "display_name": "Python 3"
    },
    "language_info": {
      "name": "python"
    },
    "accelerator": "GPU"
  },
  "cells": [
    {
      "cell_type": "markdown",
      "metadata": {
        "id": "view-in-github",
        "colab_type": "text"
      },
      "source": [
        "<a href=\"https://colab.research.google.com/github/SWASTIK-CHAMOLA/College-AI-ML-LAB/blob/main/Lab_4.ipynb\" target=\"_parent\"><img src=\"https://colab.research.google.com/assets/colab-badge.svg\" alt=\"Open In Colab\"/></a>"
      ]
    },
    {
      "cell_type": "code",
      "execution_count": null,
      "metadata": {
        "colab": {
          "base_uri": "https://localhost:8080/"
        },
        "id": "h0xhrX8UDJ_4",
        "outputId": "458ba54c-9047-4e84-b9aa-04f2b56253d8"
      },
      "outputs": [
        {
          "output_type": "stream",
          "name": "stdout",
          "text": [
            "Mounted at /content/drive\n"
          ]
        }
      ],
      "source": [
        "from google.colab import drive\n",
        "drive.mount('/content/drive')"
      ]
    },
    {
      "cell_type": "code",
      "source": [
        "import pandas as pd\n",
        "from sklearn.preprocessing import StandardScaler, MinMaxScaler\n",
        "file_path = \"/content/drive/MyDrive/Colab Notebooks/Netflix Dataset.csv\"\n",
        "\n",
        "df = pd.read_csv(file_path)\n",
        "print(\"Dataset loaded successfully!\")\n",
        "print(\"Original dataset shape:\", df.shape)\n",
        "df.info()"
      ],
      "metadata": {
        "colab": {
          "base_uri": "https://localhost:8080/"
        },
        "id": "tq4wekjMDK6t",
        "outputId": "db37f610-f723-4236-ee5b-b12dcab46434"
      },
      "execution_count": null,
      "outputs": [
        {
          "output_type": "stream",
          "name": "stdout",
          "text": [
            "Dataset loaded successfully!\n",
            "Original dataset shape: (7789, 11)\n",
            "<class 'pandas.core.frame.DataFrame'>\n",
            "RangeIndex: 7789 entries, 0 to 7788\n",
            "Data columns (total 11 columns):\n",
            " #   Column        Non-Null Count  Dtype \n",
            "---  ------        --------------  ----- \n",
            " 0   Show_Id       7789 non-null   object\n",
            " 1   Category      7789 non-null   object\n",
            " 2   Title         7789 non-null   object\n",
            " 3   Director      5401 non-null   object\n",
            " 4   Cast          7071 non-null   object\n",
            " 5   Country       7282 non-null   object\n",
            " 6   Release_Date  7779 non-null   object\n",
            " 7   Rating        7782 non-null   object\n",
            " 8   Duration      7789 non-null   object\n",
            " 9   Type          7789 non-null   object\n",
            " 10  Description   7789 non-null   object\n",
            "dtypes: object(11)\n",
            "memory usage: 669.5+ KB\n"
          ]
        }
      ]
    },
    {
      "cell_type": "code",
      "source": [
        "# Run this in a new cell to get the TRUE list of column names\n",
        "print(df.columns)"
      ],
      "metadata": {
        "colab": {
          "base_uri": "https://localhost:8080/"
        },
        "id": "hixM-4TzEYZU",
        "outputId": "d1284823-b608-489e-943a-345120af896f"
      },
      "execution_count": null,
      "outputs": [
        {
          "output_type": "stream",
          "name": "stdout",
          "text": [
            "Index(['Show_Id', 'Category', 'Title', 'Director', 'Cast', 'Country',\n",
            "       'Release_Date', 'Rating', 'Duration', 'Type', 'Description'],\n",
            "      dtype='object')\n"
          ]
        }
      ]
    },
    {
      "cell_type": "code",
      "source": [
        "# Convert 'Release_Date' to a datetime format\n",
        "# errors='coerce' will turn any unparseable dates into NaT (Not a Time)\n",
        "df['Release_Date'] = pd.to_datetime(df['Release_Date'], errors='coerce')\n",
        "\n",
        "# Create a new column 'release_year' by extracting the year\n",
        "df['release_year'] = df['Release_Date'].dt.year\n",
        "\n",
        
        "df.dropna(subset=['release_year'], inplace=True)\n",
        "\n",
        "# Convert the year to an integer type\n",
        "df['release_year'] = df['release_year'].astype(int)\n",
        "\n",
        "# Verify that new column was created successfully\n",
        "print(\"Successfully created the 'release_year' column.\")\n",
        "print(df[['Release_Date', 'release_year']].head())"
      ],
      "metadata": {
        "colab": {
          "base_uri": "https://localhost:8080/"
        },
        "id": "Mk2ybM2iE-QS",
        "outputId": "cd0e6f35-6bab-41f8-a1dd-e1a9abfcc99c"
      },
      "execution_count": null,
      "outputs": [
        {
          "output_type": "stream",
          "name": "stdout",
          "text": [
            "Successfully created the 'release_year' column.\n",
            "  Release_Date  release_year\n",
            "0   2020-08-14          2020\n",
            "1   2016-12-23          2016\n",
            "2   2018-12-20          2018\n",
            "3   2017-11-16          2017\n",
            "4   2020-01-01          2020\n"
          ]
        }
      ]
    },
    {
      "cell_type": "code",
      "source": [
        "from sklearn.preprocessing import StandardScaler, MinMaxScaler\n",
        "\n",
        "# --- Feature Scaling on our NEW 'release_year' column ---\n",
        "\n",
        "# 1. Standardization (StandardScaler)\n",
        "scaler_standard = StandardScaler()\n",
        "df['release_year_standardized'] = scaler_standard.fit_transform(df[['release_year']])\n",
        "\n",
        "# 2. Normalization (MinMaxScaler)\n",
        "scaler_minmax = MinMaxScaler()\n",
        "df['release_year_normalized'] = scaler_minmax.fit_transform(df[['release_year']])\n",
        "\n",
        "# Display the results to compare\n",
        "print(\"\\nComparison of original and scaled 'release_year':\\n\")\n",
        "print(df[['release_year', 'release_year_standardized', 'release_year_normalized']].head())\n",
        "\n",
        "print(\"\\nStatistics of the scaled columns:\\n\")\n",
        "print(df[['release_year', 'release_year_standardized', 'release_year_normalized']].describe())"
      ],
      "metadata": {
        "colab": {
          "base_uri": "https://localhost:8080/"
        },
        "id": "vsHqfQDSFvJB",
        "outputId": "b642d436-fb36-49cf-9b77-fdc0d6bc0fa6"
      },
      "execution_count": null,
      "outputs": [
        {
          "output_type": "stream",
          "name": "stdout",
          "text": [
            "\n",
            "Comparison of original and scaled 'release_year':\n",
            "\n",
            "   release_year  release_year_standardized  release_year_normalized\n",
            "0          2020                   1.079934                 0.923077\n",
            "1          2016                  -1.814315                 0.615385\n",
            "2          2018                  -0.367191                 0.769231\n",
            "3          2017                  -1.090753                 0.692308\n",
            "4          2020                   1.079934                 0.923077\n",
            "\n",
            "Statistics of the scaled columns:\n",
            "\n",
            "       release_year  release_year_standardized  release_year_normalized\n",
            "count   7691.000000               7.691000e+03              7691.000000\n",
            "mean    2018.507476               6.035410e-14                 0.808267\n",
            "std        1.382141               1.000065e+00                 0.106319\n",
            "min     2008.000000              -7.602811e+00                 0.000000\n",
            "25%     2018.000000              -3.671906e-01                 0.769231\n",
            "50%     2019.000000               3.563715e-01                 0.846154\n",
            "75%     2020.000000               1.079934e+00                 0.923077\n",
            "max     2021.000000               1.803496e+00                 1.000000\n"
          ]
        }
      ]
    },
    {
      "cell_type": "code",
      "source": [],
      "metadata": {
        "id": "3Qr8H4e8GGsj"
      },
      "execution_count": null,
      "outputs": []
    }
  ]
}
